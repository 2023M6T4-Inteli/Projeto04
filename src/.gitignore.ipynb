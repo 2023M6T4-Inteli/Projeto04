{
 "cells": [
  {
   "cell_type": "code",
   "execution_count": null,
   "id": "b0572bf7",
   "metadata": {},
   "outputs": [],
   "source": [
    "# Ignorar arquivos CSV\n",
    "*.csv"
   ]
  },
  {
   "cell_type": "code",
   "execution_count": null,
   "id": "ef7764ab",
   "metadata": {},
   "outputs": [],
   "source": [
    "git add .gitignore\n",
    "git commit -m \"Adicionando arquivo .gitignore\""
   ]
  }
 ],
 "metadata": {
  "kernelspec": {
   "display_name": "Python 3 (ipykernel)",
   "language": "python",
   "name": "python3"
  },
  "language_info": {
   "codemirror_mode": {
    "name": "ipython",
    "version": 3
   },
   "file_extension": ".py",
   "mimetype": "text/x-python",
   "name": "python",
   "nbconvert_exporter": "python",
   "pygments_lexer": "ipython3",
   "version": "3.11.3"
  }
 },
 "nbformat": 4,
 "nbformat_minor": 5
}
