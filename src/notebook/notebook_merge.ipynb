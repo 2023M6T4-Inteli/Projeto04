{
 "cells": [
  {
   "cell_type": "code",
   "execution_count": 3,
   "id": "46c99c29",
   "metadata": {},
   "outputs": [
    {
     "name": "stdout",
     "output_type": "stream",
     "text": [
      "Requirement already satisfied: nbmerge in c:\\users\\inteli\\appdata\\local\\programs\\python\\python311\\lib\\site-packages (0.0.4)\n"
     ]
    },
    {
     "name": "stderr",
     "output_type": "stream",
     "text": [
      "\n",
      "[notice] A new release of pip available: 22.3.1 -> 23.1.2\n",
      "[notice] To update, run: python.exe -m pip install --upgrade pip\n"
     ]
    }
   ],
   "source": [
    "!pip install nbmerge"
   ]
  },
  {
   "cell_type": "code",
   "execution_count": 7,
   "id": "cfff423d",
   "metadata": {},
   "outputs": [
    {
     "name": "stderr",
     "output_type": "stream",
     "text": [
      "Traceback (most recent call last):\n",
      "  File \"C:\\Users\\Inteli\\AppData\\Local\\Programs\\Python\\Python311\\Scripts\\nbmerge-script.py\", line 33, in <module>\n",
      "    sys.exit(load_entry_point('nbmerge==0.0.4', 'console_scripts', 'nbmerge')())\n",
      "             ^^^^^^^^^^^^^^^^^^^^^^^^^^^^^^^^^^^^^^^^^^^^^^^^^^^^^^^^^^^^^^^^^^\n",
      "  File \"C:\\Users\\Inteli\\AppData\\Local\\Programs\\Python\\Python311\\Lib\\site-packages\\nbmerge\\__init__.py\", line 189, in main\n",
      "    plan = parse_plan(args)\n",
      "           ^^^^^^^^^^^^^^^^\n",
      "  File \"C:\\Users\\Inteli\\AppData\\Local\\Programs\\Python\\Python311\\Lib\\site-packages\\nbmerge\\__init__.py\", line 173, in parse_plan\n",
      "    raise IOError(\"Notebook `{}` does not exist\".format(file_path))\n",
      "OSError: Notebook `embedding_layers.ipynb` does not exist\n"
     ]
    }
   ],
   "source": [
    "!nbmerge bag-of-words.ipynb modelos_bag_of_words.ipynb modelos_word2vec_full.ipynb embedding_layers.ipynb > notebook_final.ipynb"
   ]
  },
  {
   "cell_type": "code",
   "execution_count": null,
   "id": "5524c383",
   "metadata": {},
   "outputs": [],
   "source": []
  },
  {
   "cell_type": "code",
   "execution_count": null,
   "id": "eb95d4c4",
   "metadata": {},
   "outputs": [],
   "source": []
  }
 ],
 "metadata": {
  "kernelspec": {
   "display_name": "Python 3 (ipykernel)",
   "language": "python",
   "name": "python3"
  },
  "language_info": {
   "codemirror_mode": {
    "name": "ipython",
    "version": 3
   },
   "file_extension": ".py",
   "mimetype": "text/x-python",
   "name": "python",
   "nbconvert_exporter": "python",
   "pygments_lexer": "ipython3",
   "version": "3.11.3"
  }
 },
 "nbformat": 4,
 "nbformat_minor": 5
}
